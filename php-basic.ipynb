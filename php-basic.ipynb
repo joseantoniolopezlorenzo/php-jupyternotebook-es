{
 "cells": [
  {
   "cell_type": "code",
   "execution_count": 1,
   "metadata": {},
   "outputs": [
    {
     "data": {
      "text/plain": [
       "a: \n"
      ]
     },
     "execution_count": 1,
     "metadata": {},
     "output_type": "execute_result"
    },
    {
     "data": {
      "text/plain": [
       "(refcount=2, is_ref=1)='hola mundo'\n"
      ]
     },
     "execution_count": 1,
     "metadata": {},
     "output_type": "execute_result"
    },
    {
     "data": {
      "text/plain": [
       "\n",
       "\n"
      ]
     },
     "execution_count": 1,
     "metadata": {},
     "output_type": "execute_result"
    },
    {
     "data": {
      "text/plain": [
       "b: \n"
      ]
     },
     "execution_count": 1,
     "metadata": {},
     "output_type": "execute_result"
    },
    {
     "data": {
      "text/plain": [
       "(refcount=2, is_ref=1)='hola mundo'\n"
      ]
     },
     "execution_count": 1,
     "metadata": {},
     "output_type": "execute_result"
    },
    {
     "data": {
      "text/plain": [
       "\n",
       "\n"
      ]
     },
     "execution_count": 1,
     "metadata": {},
     "output_type": "execute_result"
    },
    {
     "data": {
      "text/plain": [
       "a: \n"
      ]
     },
     "execution_count": 1,
     "metadata": {},
     "output_type": "execute_result"
    },
    {
     "data": {
      "text/plain": [
       "(refcount=2, is_ref=1)='changed string'\n"
      ]
     },
     "execution_count": 1,
     "metadata": {},
     "output_type": "execute_result"
    },
    {
     "data": {
      "text/plain": [
       "\n",
       "\n"
      ]
     },
     "execution_count": 1,
     "metadata": {},
     "output_type": "execute_result"
    },
    {
     "data": {
      "text/plain": [
       "b: \n"
      ]
     },
     "execution_count": 1,
     "metadata": {},
     "output_type": "execute_result"
    },
    {
     "data": {
      "text/plain": [
       "(refcount=2, is_ref=1)='changed string'\n"
      ]
     },
     "execution_count": 1,
     "metadata": {},
     "output_type": "execute_result"
    },
    {
     "data": {
      "text/plain": [
       "\n",
       "\n"
      ]
     },
     "execution_count": 1,
     "metadata": {},
     "output_type": "execute_result"
    },
    {
     "data": {
      "text/plain": [
       "\u001b[31;1mExit:  Goodbye\u001b[39;22m"
      ]
     },
     "execution_count": 1,
     "metadata": {},
     "output_type": "execute_result"
    }
   ],
   "source": [
    "$a = \"hola mundo\";\n",
    "$b =& $a;\n",
    "// the variable b points to the variable a\n",
    "xdebug_debug_zval( 'a' );\n",
    "xdebug_debug_zval( 'b' );\n",
    "// change the string and see that the refcount is reset\n",
    "$b = 'changed string';\n",
    "xdebug_debug_zval( 'a' );\n",
    "xdebug_debug_zval( 'b' );\n",
    "die;"
   ]
  },
  {
   "cell_type": "markdown",
   "metadata": {},
   "source": [
    "Suberglobal\n",
    "\t\n",
    "Stores\n",
    "$GLOBALS\n",
    "\t\n",
    "An array of variables that exist in the global scope.\n",
    "$_SERVER\n",
    "\t\n",
    "An array of information about paths, headers, and other information relevant to the server environment.\n",
    "$_GET\n",
    "\t\n",
    "Variables sent in a GET request.\n",
    "$_POST\n",
    "\t\n",
    "Variables sent in a POST request.\n",
    "$_FILES\n",
    "\t\n",
    "An associative array of files that were uploaded as part of a POST request.\n",
    "$_COOKIE\n",
    "\t\n",
    "An associative array of variables passed to the current script via HTTP cookies.\n",
    "$_SESSION\n",
    "\t\n",
    "An associative array containing session variables available to the current script.\n",
    "$_REQUEST\n",
    "\t\n",
    "POST, GET, and COOKIE request variables.\n",
    "$_ENV\n",
    "\t\n",
    "An associative array of variables passed to the current script via the environment method."
   ]
  },
  {
   "cell_type": "code",
   "execution_count": null,
   "metadata": {},
   "outputs": [],
   "source": []
  },
  {
   "cell_type": "code",
   "execution_count": null,
   "metadata": {},
   "outputs": [],
   "source": []
  }
 ],
 "metadata": {
  "kernelspec": {
   "display_name": "PHP",
   "language": "php",
   "name": "jupyter-php"
  },
  "language_info": {
   "file_extension": ".php",
   "mimetype": "text/x-php",
   "name": "PHP",
   "pygments_lexer": "PHP",
   "version": "7.4.3"
  }
 },
 "nbformat": 4,
 "nbformat_minor": 2
}
